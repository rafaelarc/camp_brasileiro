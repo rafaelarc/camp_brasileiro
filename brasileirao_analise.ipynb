{
 "cells": [
  {
   "cell_type": "markdown",
   "metadata": {},
   "source": [
    "### Análise do Campeonato Brasileiro\n",
    "\n",
    "#### Objetivo\n",
    "\n",
    "Esse projeto tem a finalidade de exibir alguns insights relacionadas ao principal campeonato brasileiro de futebol do Brasil, que é realizado no formato de pontos corridos desde 2003.\n",
    "\n",
    "#### Período\n",
    "\n",
    "Base de dados compreende o período de 2003 até 2020.\n",
    "\n",
    "#### Fonte de Dados\n",
    "\n",
    "https://github.com/adaoduque/Brasileirao_Dataset"
   ]
  },
  {
   "cell_type": "markdown",
   "metadata": {},
   "source": [
    "### Extração dos Dados"
   ]
  },
  {
   "cell_type": "code",
   "execution_count": 1,
   "metadata": {},
   "outputs": [],
   "source": [
    "import pandas as pd\n",
    "import seaborn as sns\n",
    "import matplotlib.pyplot as plt\n",
    "import warnings\n",
    "warnings.filterwarnings('ignore')"
   ]
  },
  {
   "cell_type": "code",
   "execution_count": 2,
   "metadata": {},
   "outputs": [],
   "source": [
    "# importando base de dados\n",
    "\n",
    "df_full = pd.read_csv(r'datasets/campeonato-brasileiro-full.csv')\n",
    "df_cartoes = pd.read_csv(r'datasets/campeonato-brasileiro-cartoes.csv')\n",
    "df_esta = pd.read_csv(r'datasets/campeonato-brasileiro-estatisticas-full.csv')\n",
    "df_gols = pd.read_csv(r'datasets/campeonato-brasileiro-gols.csv')"
   ]
  },
  {
   "cell_type": "markdown",
   "metadata": {},
   "source": [
    "### Tratamento dos Dados"
   ]
  },
  {
   "cell_type": "code",
   "execution_count": 3,
   "metadata": {},
   "outputs": [],
   "source": [
    "# ajustando formato da data\n",
    "\n",
    "df_full.data = pd.to_datetime(df_full.data)"
   ]
  },
  {
   "cell_type": "code",
   "execution_count": 4,
   "metadata": {},
   "outputs": [],
   "source": [
    "# incluindo uma coluna de ano\n",
    "\n",
    "df_full['ano'] = df_full['data'].dt.strftime('%Y')"
   ]
  },
  {
   "cell_type": "code",
   "execution_count": 5,
   "metadata": {},
   "outputs": [],
   "source": [
    "# incluindo um coluna com o nome do dia\n",
    "\n",
    "df_full['dia_semana'] = df_full['data'].dt.day_name()"
   ]
  },
  {
   "cell_type": "code",
   "execution_count": 6,
   "metadata": {},
   "outputs": [],
   "source": [
    "# ajustando base de dados para textos minusculos\n",
    "\n",
    "df_full.columns = df_full.columns.str.lower()\n",
    "df_gols.columns = df_gols.columns.str.lower()\n",
    "df_cartoes.columns = df_cartoes.columns.str.lower()\n",
    "df_esta.columns = df_esta.columns.str.lower()"
   ]
  },
  {
   "cell_type": "markdown",
   "metadata": {},
   "source": [
    "### Análise dos Dados\n",
    "\n",
    "Análise exploratória dos dados.\n"
   ]
  },
  {
   "cell_type": "code",
   "execution_count": 7,
   "metadata": {},
   "outputs": [
    {
     "data": {
      "text/plain": [
       "20640"
      ]
     },
     "execution_count": 7,
     "metadata": {},
     "output_type": "execute_result"
    }
   ],
   "source": [
    "# Quantos gols foram feitos no total?\n",
    "\n",
    "df_full['total_gols'] = df_full['mandante_placar'] + df_full['visitante_placar']\n",
    "df_full['total_gols'].sum()"
   ]
  },
  {
   "cell_type": "code",
   "execution_count": 8,
   "metadata": {},
   "outputs": [
    {
     "data": {
      "text/plain": [
       "2.57196261682243"
      ]
     },
     "execution_count": 8,
     "metadata": {},
     "output_type": "execute_result"
    }
   ],
   "source": [
    "# Qual a média de gols por partida?\n",
    "\n",
    "df_full['total_gols'].mean()"
   ]
  },
  {
   "cell_type": "code",
   "execution_count": 9,
   "metadata": {},
   "outputs": [
    {
     "data": {
      "text/html": [
       "<div>\n",
       "<style scoped>\n",
       "    .dataframe tbody tr th:only-of-type {\n",
       "        vertical-align: middle;\n",
       "    }\n",
       "\n",
       "    .dataframe tbody tr th {\n",
       "        vertical-align: top;\n",
       "    }\n",
       "\n",
       "    .dataframe thead th {\n",
       "        text-align: right;\n",
       "    }\n",
       "</style>\n",
       "<table border=\"1\" class=\"dataframe\">\n",
       "  <thead>\n",
       "    <tr style=\"text-align: right;\">\n",
       "      <th></th>\n",
       "      <th>time</th>\n",
       "      <th>gols_sofridos</th>\n",
       "    </tr>\n",
       "  </thead>\n",
       "  <tbody>\n",
       "    <tr>\n",
       "      <th>0</th>\n",
       "      <td>Fluminense</td>\n",
       "      <td>985</td>\n",
       "    </tr>\n",
       "    <tr>\n",
       "      <th>1</th>\n",
       "      <td>Atletico-MG</td>\n",
       "      <td>946</td>\n",
       "    </tr>\n",
       "    <tr>\n",
       "      <th>2</th>\n",
       "      <td>Athletico-PR</td>\n",
       "      <td>922</td>\n",
       "    </tr>\n",
       "    <tr>\n",
       "      <th>3</th>\n",
       "      <td>Flamengo</td>\n",
       "      <td>920</td>\n",
       "    </tr>\n",
       "    <tr>\n",
       "      <th>4</th>\n",
       "      <td>Santos</td>\n",
       "      <td>918</td>\n",
       "    </tr>\n",
       "  </tbody>\n",
       "</table>\n",
       "</div>"
      ],
      "text/plain": [
       "           time  gols_sofridos\n",
       "0    Fluminense            985\n",
       "1   Atletico-MG            946\n",
       "2  Athletico-PR            922\n",
       "3      Flamengo            920\n",
       "4        Santos            918"
      ]
     },
     "execution_count": 9,
     "metadata": {},
     "output_type": "execute_result"
    }
   ],
   "source": [
    "### Quais são os 5 times que mais sofreram gols?\n",
    "\n",
    "gols_mandante  = df_full.groupby('visitante')['mandante_placar' ].sum().sort_values(ascending=False).reset_index()\n",
    "gols_mandante.rename(columns  = {\"visitante\": \"time\", 'mandante_placar' : 'gols_sofridos' }, inplace=True)\n",
    " \n",
    "gols_visitante = df_full.groupby('mandante' )['visitante_placar'].sum().sort_values(ascending=False).reset_index()\n",
    "gols_visitante.rename(columns = {\"mandante\" : \"time\", 'visitante_placar': 'gols_sofridos' }, inplace=True)\n",
    " \n",
    "gols_time = pd.concat([gols_mandante, gols_visitante])\n",
    " \n",
    "gols_sofridos = gols_time.groupby('time')['gols_sofridos'].sum().sort_values(ascending=False).reset_index()\n",
    "gols_sofridos.head(5)"
   ]
  },
  {
   "cell_type": "code",
   "execution_count": 10,
   "metadata": {},
   "outputs": [
    {
     "data": {
      "image/png": "[encoded data removed]",
      "text/plain": [
       "<Figure size 640x480 with 1 Axes>"
      ]
     },
     "metadata": {},
     "output_type": "display_data"
    }
   ],
   "source": [
    "### Gráfico top 5 times gols sofridos\n",
    "\n",
    "sns.barplot(x=\"gols_sofridos\", y=\"time\", data=gols_sofridos.head(5))\n",
    "plt.title('Top 5 Times Gols Sofridos')\n",
    "plt.show()"
   ]
  },
  {
   "cell_type": "code",
   "execution_count": 11,
   "metadata": {},
   "outputs": [
    {
     "data": {
      "text/html": [
       "<div>\n",
       "<style scoped>\n",
       "    .dataframe tbody tr th:only-of-type {\n",
       "        vertical-align: middle;\n",
       "    }\n",
       "\n",
       "    .dataframe tbody tr th {\n",
       "        vertical-align: top;\n",
       "    }\n",
       "\n",
       "    .dataframe thead th {\n",
       "        text-align: right;\n",
       "    }\n",
       "</style>\n",
       "<table border=\"1\" class=\"dataframe\">\n",
       "  <thead>\n",
       "    <tr style=\"text-align: right;\">\n",
       "      <th></th>\n",
       "      <th>time</th>\n",
       "      <th>gols_marcados</th>\n",
       "    </tr>\n",
       "  </thead>\n",
       "  <tbody>\n",
       "    <tr>\n",
       "      <th>0</th>\n",
       "      <td>Santos</td>\n",
       "      <td>1139</td>\n",
       "    </tr>\n",
       "    <tr>\n",
       "      <th>1</th>\n",
       "      <td>Sao Paulo</td>\n",
       "      <td>1123</td>\n",
       "    </tr>\n",
       "    <tr>\n",
       "      <th>2</th>\n",
       "      <td>Flamengo</td>\n",
       "      <td>1113</td>\n",
       "    </tr>\n",
       "    <tr>\n",
       "      <th>3</th>\n",
       "      <td>Atletico-MG</td>\n",
       "      <td>1079</td>\n",
       "    </tr>\n",
       "    <tr>\n",
       "      <th>4</th>\n",
       "      <td>Fluminense</td>\n",
       "      <td>1047</td>\n",
       "    </tr>\n",
       "  </tbody>\n",
       "</table>\n",
       "</div>"
      ],
      "text/plain": [
       "          time  gols_marcados\n",
       "0       Santos           1139\n",
       "1    Sao Paulo           1123\n",
       "2     Flamengo           1113\n",
       "3  Atletico-MG           1079\n",
       "4   Fluminense           1047"
      ]
     },
     "execution_count": 11,
     "metadata": {},
     "output_type": "execute_result"
    }
   ],
   "source": [
    "### Quais são os 5 times que mais marcaram gols?\n",
    "\n",
    "gols_mandante  = df_full.groupby('mandante' )['mandante_placar' ].sum().sort_values(ascending=False).reset_index()\n",
    "gols_mandante.rename(columns  = {\"mandante\" : \"time\", 'mandante_placar' : 'gols_marcados' }, inplace=True)\n",
    " \n",
    "gols_visitante = df_full.groupby('visitante')['visitante_placar'].sum().sort_values(ascending=False).reset_index()\n",
    "gols_visitante.rename(columns = {\"visitante\": \"time\", 'visitante_placar': 'gols_marcados' }, inplace=True)\n",
    " \n",
    "gols_time = pd.concat([gols_mandante, gols_visitante])\n",
    " \n",
    "gols_marcados = gols_time.groupby('time')['gols_marcados'].sum().sort_values(ascending=False).reset_index()\n",
    "gols_marcados.head(5)"
   ]
  },
  {
   "cell_type": "code",
   "execution_count": 12,
   "metadata": {},
   "outputs": [
    {
     "data": {
      "image/png": "[encoded data removed]",
      "text/plain": [
       "<Figure size 640x480 with 1 Axes>"
      ]
     },
     "metadata": {},
     "output_type": "display_data"
    }
   ],
   "source": [
    "### Gráfico top 5 times gols marcados\n",
    "\n",
    "sns.barplot(x=\"gols_marcados\", y=\"time\", data=gols_marcados.head(5))\n",
    "plt.title('Top 5 Times Gols Marcados')\n",
    "plt.show()"
   ]
  },
  {
   "cell_type": "code",
   "execution_count": 13,
   "metadata": {},
   "outputs": [
    {
     "name": "stdout",
     "output_type": "stream",
     "text": [
      "\n",
      " Total Faltas: 91127 \n",
      " Total Impedimentos: 9843 \n",
      " Total Escanteios: 31730\n"
     ]
    }
   ],
   "source": [
    "# Qual é o total de faltas, impedimentos e escanteios?\n",
    "\n",
    "soma_faltas = df_esta['faltas'].sum()\n",
    "soma_impedimentos = df_esta['impedimentos'].sum()\n",
    "soma_escanteios = df_esta['escanteios'].sum()\n",
    "print('\\n Total Faltas: {} \\n Total Impedimentos: {} \\n Total Escanteios: {}'.format(soma_faltas, soma_impedimentos, soma_escanteios))"
   ]
  },
  {
   "cell_type": "code",
   "execution_count": 14,
   "metadata": {},
   "outputs": [
    {
     "data": {
      "text/plain": [
       "gol contra    207\n",
       "Name: tipo_de_gol, dtype: int64"
      ]
     },
     "execution_count": 14,
     "metadata": {},
     "output_type": "execute_result"
    }
   ],
   "source": [
    "# Quantos gols contra foram marcados?\n",
    "\n",
    "df_gols['tipo_de_gol'] = df_gols['tipo_de_gol'].str.lower()\n",
    "df_gols[df_gols['tipo_de_gol'] == 'gol contra']['tipo_de_gol'].value_counts().head(1)"
   ]
  },
  {
   "cell_type": "code",
   "execution_count": 15,
   "metadata": {},
   "outputs": [
    {
     "data": {
      "text/plain": [
       "Thiago Heleno    61\n",
       "Name: atleta, dtype: int64"
      ]
     },
     "execution_count": 15,
     "metadata": {},
     "output_type": "execute_result"
    }
   ],
   "source": [
    "# Qual jogador recebeu mais cartões vermelhos?\n",
    "\n",
    "df_cartoes['cartao'] = df_cartoes['cartao'].str.lower()\n",
    "df_cartoes[df_cartoes['cartao'] != 'vermelho']['atleta'].value_counts().head(1)"
   ]
  },
  {
   "cell_type": "code",
   "execution_count": 16,
   "metadata": {},
   "outputs": [
    {
     "data": {
      "text/plain": [
       "atleta\n",
       "Gabriel Barbosa    92\n",
       "Name: atleta, dtype: int64"
      ]
     },
     "execution_count": 16,
     "metadata": {},
     "output_type": "execute_result"
    }
   ],
   "source": [
    "# Qual é o jogador artilheiro?\n",
    "\n",
    "artilheiro = df_gols.groupby('atleta')\n",
    "artilheiro['atleta'].count().sort_values(ascending=False).head(1)"
   ]
  },
  {
   "cell_type": "code",
   "execution_count": 17,
   "metadata": {},
   "outputs": [
    {
     "data": {
      "text/plain": [
       "Sunday    2809\n",
       "Name: dia_semana, dtype: int64"
      ]
     },
     "execution_count": 17,
     "metadata": {},
     "output_type": "execute_result"
    }
   ],
   "source": [
    "# Qual o dia da semana que mais teve jogos?\n",
    "\n",
    "df_full['dia_semana'].value_counts().head(1)"
   ]
  },
  {
   "cell_type": "code",
   "execution_count": 18,
   "metadata": {},
   "outputs": [
    {
     "data": {
      "text/plain": [
       "16:00    1837\n",
       "Name: hora, dtype: int64"
      ]
     },
     "execution_count": 18,
     "metadata": {},
     "output_type": "execute_result"
    }
   ],
   "source": [
    "# Qual o horário que mais teve jogos?\n",
    "\n",
    "df_full['hora'].value_counts().head(1)"
   ]
  },
  {
   "cell_type": "code",
   "execution_count": 19,
   "metadata": {},
   "outputs": [
    {
     "data": {
      "text/plain": [
       "mandante              Fluminense\n",
       "visitante               Coritiba\n",
       "data         2005-05-21 00:00:00\n",
       "vencedor                Coritiba\n",
       "Name: 1150, dtype: object"
      ]
     },
     "execution_count": 19,
     "metadata": {},
     "output_type": "execute_result"
    }
   ],
   "source": [
    "# Qual foi o jogo da linha 1150?\n",
    "\n",
    "df_full.loc[1150][['mandante', 'visitante', 'data', 'vencedor']]"
   ]
  },
  {
   "cell_type": "code",
   "execution_count": 20,
   "metadata": {},
   "outputs": [
    {
     "data": {
      "text/plain": [
       "Sao Paulo    108\n",
       "Name: mandante, dtype: int64"
      ]
     },
     "execution_count": 20,
     "metadata": {},
     "output_type": "execute_result"
    }
   ],
   "source": [
    "# Qual o time mandante com mais empates?\n",
    "\n",
    "df_full[df_full['vencedor'] == '-']['mandante'].value_counts().head(1)"
   ]
  },
  {
   "cell_type": "code",
   "execution_count": 21,
   "metadata": {},
   "outputs": [
    {
     "data": {
      "text/plain": [
       "Athletico-PR    287\n",
       "Name: visitante, dtype: int64"
      ]
     },
     "execution_count": 21,
     "metadata": {},
     "output_type": "execute_result"
    }
   ],
   "source": [
    "# Qual o time visitante com mais derrotas?\n",
    "\n",
    "df_full[df_full['visitante'] != df_full['vencedor']]['visitante'].value_counts().head(1)"
   ]
  },
  {
   "cell_type": "code",
   "execution_count": 22,
   "metadata": {},
   "outputs": [
    {
     "data": {
      "text/plain": [
       "mandante\n",
       "Santos    702\n",
       "Name: mandante_placar, dtype: int64"
      ]
     },
     "execution_count": 22,
     "metadata": {},
     "output_type": "execute_result"
    }
   ],
   "source": [
    "# Time com maior número de gols como mandante?\n",
    "\n",
    "gols_mandante = df_full.groupby('mandante')\n",
    "gols_mandante['mandante_placar'].sum().sort_values(ascending=False).head(1)"
   ]
  },
  {
   "cell_type": "code",
   "execution_count": 23,
   "metadata": {},
   "outputs": [
    {
     "data": {
      "text/plain": [
       "Botafogo-RJ    10\n",
       "Name: mandante, dtype: int64"
      ]
     },
     "execution_count": 23,
     "metadata": {},
     "output_type": "execute_result"
    }
   ],
   "source": [
    "# Qual time que mais empatou como mandante no ano de 2010?\n",
    "\n",
    "df_full[(df_full['vencedor'] == '-') & (df_full['ano'] == '2010')]['mandante'].value_counts().head(1)"
   ]
  }
 ],
 "metadata": {
  "kernelspec": {
   "display_name": "Python 3 (ipykernel)",
   "language": "python",
   "name": "python3"
  },
  "language_info": {
   "codemirror_mode": {
    "name": "ipython",
    "version": 3
   },
   "file_extension": ".py",
   "mimetype": "text/x-python",
   "name": "python",
   "nbconvert_exporter": "python",
   "pygments_lexer": "ipython3",
   "version": "3.10.9"
  }
 },
 "nbformat": 4,
 "nbformat_minor": 2
}
